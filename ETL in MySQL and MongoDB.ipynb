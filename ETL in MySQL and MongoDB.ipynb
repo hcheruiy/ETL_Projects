{
 "cells": [
  {
   "cell_type": "code",
   "execution_count": 5,
   "metadata": {},
   "outputs": [],
   "source": [
    "import copy\n",
    "from pymongo import MongoClient\n",
    "import pymysql\n",
    "\n",
    "#MySQL config constants\n",
    "MYSQL_USERNAME = 'hcheruiy'\n",
    "MYSQL_PASSWORD = '@cc_20!9'\n",
    "MYSQL_HOST = 'localhost'\n",
    "MYSQL_DB = 'ap'\n",
    "\n",
    "#MongoDB config constants\n",
    "MONGO_HOST = 'localhost'\n",
    "MONGO_PORT = 27017\n",
    "MONGO_DP = 'ap'"
   ]
  },
  {
   "cell_type": "code",
   "execution_count": 9,
   "metadata": {},
   "outputs": [
    {
     "name": "stdout",
     "output_type": "stream",
     "text": [
      "Starting data pipeline\n",
      "Initializing MySQL connection\n",
      "MySQL connection completed.\n",
      "Starting data pipeline stage 1: Extracting data from MySQL.\n",
      "Stage 1 completed! Data successfully extracted from MySQL\n",
      "Starting data pipeline stage 2: Transforming data from MySQL for MongoDB\n",
      "Transforming genres dataset\n"
     ]
    },
    {
     "ename": "TypeError",
     "evalue": "list indices must be integers or slices, not str",
     "output_type": "error",
     "traceback": [
      "\u001b[0;31m---------------------------------------------------------------------------\u001b[0m",
      "\u001b[0;31mTypeError\u001b[0m                                 Traceback (most recent call last)",
      "\u001b[0;32m<ipython-input-9-f8b47d159323>\u001b[0m in \u001b[0;36m<module>\u001b[0;34m\u001b[0m\n\u001b[1;32m    178\u001b[0m     \u001b[0mgeneral_ledger_accounts_collection\u001b[0m \u001b[0;34m=\u001b[0m \u001b[0mtransform_data\u001b[0m\u001b[0;34m(\u001b[0m\u001b[0mmysql_data\u001b[0m\u001b[0;34m,\u001b[0m \u001b[0;34m\"general_ledger_accounts\"\u001b[0m\u001b[0;34m)\u001b[0m\u001b[0;34m\u001b[0m\u001b[0;34m\u001b[0m\u001b[0m\n\u001b[1;32m    179\u001b[0m \u001b[0;34m\u001b[0m\u001b[0m\n\u001b[0;32m--> 180\u001b[0;31m \u001b[0mmain\u001b[0m\u001b[0;34m(\u001b[0m\u001b[0;34m)\u001b[0m\u001b[0;34m\u001b[0m\u001b[0;34m\u001b[0m\u001b[0m\n\u001b[0m",
      "\u001b[0;32m<ipython-input-9-f8b47d159323>\u001b[0m in \u001b[0;36mmain\u001b[0;34m()\u001b[0m\n\u001b[1;32m    176\u001b[0m         \u001b[0mprint\u001b[0m\u001b[0;34m(\u001b[0m\u001b[0;34m'Starting data pipeline stage 2: Transforming data from MySQL for MongoDB'\u001b[0m\u001b[0;34m)\u001b[0m\u001b[0;34m\u001b[0m\u001b[0;34m\u001b[0m\u001b[0m\n\u001b[1;32m    177\u001b[0m         \u001b[0mprint\u001b[0m\u001b[0;34m(\u001b[0m\u001b[0;34m'Transforming genres dataset'\u001b[0m\u001b[0;34m)\u001b[0m\u001b[0;34m\u001b[0m\u001b[0;34m\u001b[0m\u001b[0m\n\u001b[0;32m--> 178\u001b[0;31m     \u001b[0mgeneral_ledger_accounts_collection\u001b[0m \u001b[0;34m=\u001b[0m \u001b[0mtransform_data\u001b[0m\u001b[0;34m(\u001b[0m\u001b[0mmysql_data\u001b[0m\u001b[0;34m,\u001b[0m \u001b[0;34m\"general_ledger_accounts\"\u001b[0m\u001b[0;34m)\u001b[0m\u001b[0;34m\u001b[0m\u001b[0;34m\u001b[0m\u001b[0m\n\u001b[0m\u001b[1;32m    179\u001b[0m \u001b[0;34m\u001b[0m\u001b[0m\n\u001b[1;32m    180\u001b[0m \u001b[0mmain\u001b[0m\u001b[0;34m(\u001b[0m\u001b[0;34m)\u001b[0m\u001b[0;34m\u001b[0m\u001b[0;34m\u001b[0m\u001b[0m\n",
      "\u001b[0;32m<ipython-input-9-f8b47d159323>\u001b[0m in \u001b[0;36mtransform_data\u001b[0;34m(dataset, table)\u001b[0m\n\u001b[1;32m     62\u001b[0m     \u001b[0;32mif\u001b[0m \u001b[0mtable\u001b[0m \u001b[0;34m==\u001b[0m \u001b[0;34m'general_ledger_accounts'\u001b[0m\u001b[0;34m:\u001b[0m\u001b[0;34m\u001b[0m\u001b[0;34m\u001b[0m\u001b[0m\n\u001b[1;32m     63\u001b[0m         \u001b[0;32mfor\u001b[0m \u001b[0mitem\u001b[0m \u001b[0;32min\u001b[0m \u001b[0mdataset\u001b[0m\u001b[0;34m[\u001b[0m\u001b[0;36m0\u001b[0m\u001b[0;34m]\u001b[0m\u001b[0;34m:\u001b[0m\u001b[0;34m\u001b[0m\u001b[0;34m\u001b[0m\u001b[0m\n\u001b[0;32m---> 64\u001b[0;31m             \u001b[0mtmp_collection\u001b[0m\u001b[0;34m[\u001b[0m\u001b[0;34m'account_number'\u001b[0m\u001b[0;34m]\u001b[0m \u001b[0;34m=\u001b[0m \u001b[0mitem\u001b[0m\u001b[0;34m[\u001b[0m\u001b[0;36m0\u001b[0m\u001b[0;34m]\u001b[0m\u001b[0;34m\u001b[0m\u001b[0;34m\u001b[0m\u001b[0m\n\u001b[0m\u001b[1;32m     65\u001b[0m             \u001b[0mtmp_collection\u001b[0m\u001b[0;34m[\u001b[0m\u001b[0;34m'account_description'\u001b[0m\u001b[0;34m]\u001b[0m \u001b[0;34m=\u001b[0m \u001b[0mitem\u001b[0m\u001b[0;34m[\u001b[0m\u001b[0;36m1\u001b[0m\u001b[0;34m]\u001b[0m\u001b[0;34m\u001b[0m\u001b[0;34m\u001b[0m\u001b[0m\n\u001b[1;32m     66\u001b[0m             \u001b[0mdataset_collection\u001b[0m\u001b[0;34m.\u001b[0m\u001b[0mappend\u001b[0m\u001b[0;34m(\u001b[0m\u001b[0mcopy\u001b[0m\u001b[0;34m.\u001b[0m\u001b[0mcopy\u001b[0m\u001b[0;34m(\u001b[0m\u001b[0mtmp_collection\u001b[0m\u001b[0;34m)\u001b[0m\u001b[0;34m)\u001b[0m\u001b[0;34m\u001b[0m\u001b[0;34m\u001b[0m\u001b[0m\n",
      "\u001b[0;31mTypeError\u001b[0m: list indices must be integers or slices, not str"
     ]
    }
   ],
   "source": [
    "# pipeline constants\n",
    "RESET_MONGO_COLLECTIONS_ON_UPDATE = True\n",
    "PRINT_INFO = True\n",
    "PRINT_RESULTS = True\n",
    "\n",
    "\n",
    "def initialize_mysql():\n",
    "    \"\"\"\n",
    "    Initializes and returns a MySQL database based on config.\n",
    "    \"\"\"\n",
    "    return pymysql.connect(\n",
    "        host = MYSQL_HOST,\n",
    "        user = MYSQL_USERNAME,\n",
    "        password = MYSQL_PASSWORD,\n",
    "        db = MYSQL_DB,\n",
    "    )\n",
    "\n",
    "def initialize_mongo():\n",
    "    \"\"\"\n",
    "    Initializes and returns MongoDB database based on config.\n",
    "    \"\"\"\n",
    "    return MongoClient(config.MONGO_HOST, config.MONGO_PORT)[config.MONGO_DB]\n",
    "\n",
    "def extract_data(mysql_cursor):\n",
    "    \"\"\"\n",
    "    Given a cursor, extracts data from MySQL dataset and returns all the tables\n",
    "    with the data.\n",
    "    \"\"\"\n",
    "    general_ledger_accounts = execute_mysql_query('select * from general_ledger_accounts', mysql_cursor, 'fetchall')\n",
    "    terms = execute_mysql_query('select * from terms', mysql_cursor, 'fetchall') \n",
    "    vendors = execute_mysql_query('select * from vendors', mysql_cursor, 'fetchall')\n",
    "    invoices= execute_mysql_query('select * from invoices', mysql_cursor, 'fetchall')\n",
    "    invoice_line_items= execute_mysql_query('select * from invoice_line_items', mysql_cursor, 'fetchall')\n",
    "    vendor_contacts= execute_mysql_query('select * from vendor_contacts', mysql_cursor, 'fetchall')\n",
    "    invoice_archive= execute_mysql_query('select * from invoice_archive', mysql_cursor, 'fetchall')\n",
    "\n",
    "    tables = (general_ledger_accounts, terms, vendors, invoices, invoice_line_items, vendor_contacts, invoice_archive)\n",
    "\n",
    "    return tables\n",
    "\n",
    "def execute_mysql_query(sql, cursor, query_type):\n",
    "    \"\"\"\n",
    "    executes a given sql, pymsql cursor and type.\n",
    "    \"\"\"\n",
    "    if query_type == 'fetchall':\n",
    "        cursor.execute(sql)\n",
    "        return cursor.fetchall()\n",
    "\n",
    "    elif query_type == 'fetchone':\n",
    "        cursor.execute(sql)\n",
    "        return cursor.fetchall()\n",
    "    else:\n",
    "        pass\n",
    "\n",
    "def transform_data(dataset, table):\n",
    "    \"\"\"\n",
    "    Transforms the data to load it into MongoDB, returns a JSON object.\n",
    "    \"\"\"\n",
    "    dataset_collection = []\n",
    "    tmp_collection = []\n",
    "\n",
    "    if table == 'general_ledger_accounts':\n",
    "        for item in dataset[0]:\n",
    "            tmp_collection['account_number'] = item[0]\n",
    "            tmp_collection['account_description'] = item[1]\n",
    "            dataset_collection.append(copy.copy(tmp_collection))\n",
    "\n",
    "        return dataset_collection\n",
    "\n",
    "    elif table == 'terms':\n",
    "        for item in dataset[1]:\n",
    "            tmp_collection['terms_id'] = item[0]\n",
    "            tmp_collection['terms_description'] = item[1]\n",
    "            tmp_collection['terms_due_days'] = item[2]\n",
    "            dataset_collection.append(copy.copy(tmp_collection))\n",
    "\n",
    "        return dataset_collection\n",
    "\n",
    "    elif table == 'vendors':\n",
    "        for item in dataset[2]:\n",
    "            tmp_collection['vendor_id'] = item[0]\n",
    "            tmp_collection['vendor_name'] = item[1]\n",
    "            tmp_collection['vendor_address1'] = item[2]\n",
    "            tmp_collection['vendor_address2'] = item[3]\n",
    "            tmp_collection['vendor_city'] = item[4]\n",
    "            tmp_collection['vendor_state'] = item[5]\n",
    "            tmp_collection['vendor_zipcode'] = item[6]\n",
    "            tmp_collection['vendor_phone'] = item[7]\n",
    "            tmp_collection['vendor_contact_last_name'] = item[8]\n",
    "            tmp_collection['vendor_contact_first_name'] = item[9]\n",
    "            tmp_collection['vendor_terms_id'] = item[10]\n",
    "            tmp_collection['vendor_account_number'] = item[11]\n",
    "            dataset_collection.append(copy.copy(tmp_collection))\n",
    "\n",
    "        return dataset_collection\n",
    "\n",
    "    elif table == \"invoices\":\n",
    "        for item in dataset[3]:\n",
    "            tmp_collection['invoice_id'] = item[0]\n",
    "            tmp_collection['vendor_id'] = item[1]\n",
    "            tmp_collection['invoice_number'] = item[2]\n",
    "            tmp_collection['invoice_date'] = item[3]\n",
    "            tmp_collection['invoice_total'] = item[4]\n",
    "            tmp_collection['payment_total'] = item[5]\n",
    "            tmp_collection['credit_total'] = item[6]\n",
    "            tmp_collection['terms_id'] = item[7]\n",
    "            tmp_collection['invoice_due_date'] = item[8]\n",
    "            tmp_collection['payment_date'] = item[9]\n",
    "            dataset_collection.append(copy.copy(tmp_collection))\n",
    "\n",
    "        return dataset_collection\n",
    "\n",
    "    elif table == \"invoice_line_items\":\n",
    "        for item in dataset[4]:\n",
    "            tmp_collection['invoice_id'] = item[0]\n",
    "            tmp_collection['invoice_sequence'] = item[1]\n",
    "            tmp_collection['account_number'] = item[2]\n",
    "            tmp_collection['line_item_amount'] = item[3]\n",
    "            tmp_collection['line_item_description'] = item[4]\n",
    "            dataset_collection.append(copy.copy(tmp_collection))\n",
    "\n",
    "        return dataset_collection\n",
    "    \n",
    "    elif table == 'vendor_contacts':\n",
    "        for item in dataset[5]:\n",
    "            tmp_collection['vendor_id'] = item[0]\n",
    "            tmp_collection['last_name'] = item[1]\n",
    "            tmp_collection['first_name'] = item[2]\n",
    "            dataset_collection.append(copy.copy(tmp_collection))\n",
    "\n",
    "        return dataset_collection\n",
    "\n",
    "    elif table == \"invoice_archive\":\n",
    "        for item in dataset[6]:\n",
    "            tmp_collection['invoice_id'] = item[0]\n",
    "            tmp_collection['vendor_id'] = item[1]\n",
    "            tmp_collection['invoice_number'] = item[2]\n",
    "            tmp_collection['invoice_date'] = item[3]\n",
    "            tmp_collection['invoice_total'] = item[4]\n",
    "            tmp_collection['payment_total'] = item[5]\n",
    "            tmp_collection['credit_total'] = item[6]\n",
    "            tmp_collection['terms_id'] = item[7]\n",
    "            tmp_collection['invoice_due_date'] = item[8]\n",
    "            tmp_collection['payment_date'] = item[9]\n",
    "            dataset_collection.append(copy.copy(tmp_collection))\n",
    "\n",
    "        return dataset_collection\n",
    "\n",
    "def load_data(mongo_collection, dataset_collection):\n",
    "    \"\"\"\n",
    "    Loads the data into MongoDB and returns the results.\n",
    "    \"\"\"\n",
    "    if RESET_MONGO_COLLECTIONS_ON_UPDATE:\n",
    "        mongo_collection.delete_many({})\n",
    "\n",
    "    return mongo_collection.insert_many(dataset_collection)\n",
    "\n",
    "def main():\n",
    "    \"\"\"\n",
    "    Main method starts a pipeline, extracts data, transforms it and loads it \n",
    "    into a Mongo client.\n",
    "    \"\"\"\n",
    "    if PRINT_INFO:\n",
    "        print('Starting data pipeline')\n",
    "        print('Initializing MySQL connection')\n",
    "    mysql = initialize_mysql()\n",
    "\n",
    "    if PRINT_INFO:\n",
    "        print('MySQL connection completed.')\n",
    "        print('Starting data pipeline stage 1: Extracting data from MySQL.')\n",
    "    mysql_cursor = mysql.cursor()\n",
    "    mysql_data = extract_data(mysql_cursor)\n",
    "    \n",
    "    if PRINT_INFO:\n",
    "        print('Stage 1 completed! Data successfully extracted from MySQL')\n",
    "        print('Starting data pipeline stage 2: Transforming data from MySQL for MongoDB')\n",
    "        print('Transforming genres dataset')\n",
    "    general_ledger_accounts_collection = transform_data(mysql_data, \"general_ledger_accounts\")\n",
    "    \n",
    "main()"
   ]
  },
  {
   "cell_type": "code",
   "execution_count": 10,
   "metadata": {},
   "outputs": [],
   "source": [
    "mysql = initialize_mysql()"
   ]
  },
  {
   "cell_type": "code",
   "execution_count": 12,
   "metadata": {},
   "outputs": [
    {
     "data": {
      "text/plain": [
       "<pymysql.connections.Connection at 0x7fe0b95f1da0>"
      ]
     },
     "execution_count": 12,
     "metadata": {},
     "output_type": "execute_result"
    }
   ],
   "source": [
    "mysql"
   ]
  },
  {
   "cell_type": "code",
   "execution_count": 13,
   "metadata": {},
   "outputs": [],
   "source": [
    "mysql_cursor = mysql.cursor()"
   ]
  },
  {
   "cell_type": "code",
   "execution_count": 14,
   "metadata": {},
   "outputs": [
    {
     "data": {
      "text/plain": [
       "<pymysql.cursors.Cursor at 0x7fe0b960ca20>"
      ]
     },
     "execution_count": 14,
     "metadata": {},
     "output_type": "execute_result"
    }
   ],
   "source": [
    "mysql_cursor"
   ]
  },
  {
   "cell_type": "code",
   "execution_count": 28,
   "metadata": {},
   "outputs": [],
   "source": [
    "def extract_data(mysql_cursor):\n",
    "    \"\"\"\n",
    "    Given a cursor, extracts data from MySQL dataset and returns all the tables\n",
    "    with the data.\n",
    "    \"\"\"\n",
    "    general_ledger_accounts = execute_mysql_query('select * from general_ledger_accounts', mysql_cursor, 'fetchall')\n",
    "    #terms = execute_mysql_query('select * from terms', mysql_cursor, 'fetchall') \n",
    "    #vendors = execute_mysql_query('select * from vendors', mysql_cursor, 'fetchall')\n",
    "    #invoices= execute_mysql_query('select * from invoices', mysql_cursor, 'fetchall')\n",
    "    #invoice_line_items= execute_mysql_query('select * from invoice_line_items', mysql_cursor, 'fetchall')\n",
    "    #vendor_contacts= execute_mysql_query('select * from vendor_contacts', mysql_cursor, 'fetchall')\n",
    "    #invoice_archive= execute_mysql_query('select * from invoice_archive', mysql_cursor, 'fetchall')\n",
    "\n",
    "    tables = (general_ledger_accounts)# terms, vendors, invoices, invoice_line_items, vendor_contacts, invoice_archive)\n",
    "\n",
    "    return tables\n",
    "\n",
    "mysql_data = extract_data(mysql_cursor)"
   ]
  },
  {
   "cell_type": "code",
   "execution_count": 29,
   "metadata": {},
   "outputs": [
    {
     "data": {
      "text/plain": [
       "((221, '401K Employee Contributions'),\n",
       " (591, 'Accounting'),\n",
       " (200, 'Accounts Payable'),\n",
       " (110, 'Accounts Receivable'),\n",
       " (569, 'Auto Expense'),\n",
       " (568, 'Auto License Fee'),\n",
       " (565, 'Bank Fees'),\n",
       " (394, 'Book Club Royalties'),\n",
       " (181, 'Book Development'),\n",
       " (120, 'Book Inventory'),\n",
       " (400, 'Book Printing Costs'),\n",
       " (403, 'Book Production Costs'),\n",
       " (572, 'Books, Dues, and Subscriptions'),\n",
       " (520, 'Building Lease'),\n",
       " (523, 'Building Maintenance'),\n",
       " (551, 'Business Forms'),\n",
       " (590, 'Business Insurance'),\n",
       " (574, 'Business Licenses and Taxes'),\n",
       " (280, 'Capital Stock'),\n",
       " (162, 'Capitalized Lease'),\n",
       " (536, 'Card Deck Advertising'),\n",
       " (100, 'Cash'),\n",
       " (610, 'Charitable Contributions'),\n",
       " (555, 'Collection Agency Fees'),\n",
       " (301, 'College Sales'),\n",
       " (310, 'Compositing Revenue'),\n",
       " (160, 'Computer Equipment'),\n",
       " (527, 'Computer Equipment Maintenance'),\n",
       " (306, 'Consignment Sales'),\n",
       " (556, 'Credit Card Handling'),\n",
       " (540, 'Direct Mail Advertising'),\n",
       " (238, 'Employee FICA Taxes Payable'),\n",
       " (242, 'Employee SDI Taxes Payable'),\n",
       " (239, 'Employer FICA Taxes Payable'),\n",
       " (241, 'Employer FUTA Taxes Payable'),\n",
       " (243, 'Employer UCI Taxes Payable'),\n",
       " (532, 'Equipment Rental'),\n",
       " (546, 'Exhibits and Shows'),\n",
       " (630, 'Federal Corporation Income Taxes'),\n",
       " (505, 'FICA'),\n",
       " (553, 'Freight'),\n",
       " (150, 'Furniture'),\n",
       " (506, 'FUTA'),\n",
       " (510, 'Group Insurance'),\n",
       " (251, 'IBM Credit Corporation Payable'),\n",
       " (528, 'IBM Lease'),\n",
       " (235, 'Income Taxes Payable'),\n",
       " (620, 'Interest Paid to Banks'),\n",
       " (580, 'Meals'),\n",
       " (508, 'Medicare'),\n",
       " (234, 'Medicare Taxes Payable'),\n",
       " (570, 'Office Supplies'),\n",
       " (170, 'Other Equipment'),\n",
       " (621, 'Other Interest'),\n",
       " (589, 'Outside Services'),\n",
       " (550, 'Packaging Materials'),\n",
       " (576, 'PC Software'),\n",
       " (552, 'Postage'),\n",
       " (611, 'Profit Sharing Contributions'),\n",
       " (300, 'Retail Sales'),\n",
       " (290, 'Retained Earnings'),\n",
       " (205, 'Royalties Payable'),\n",
       " (500, 'Salaries and Wages'),\n",
       " (632, 'Sales Tax'),\n",
       " (230, 'Sales Taxes Payable'),\n",
       " (167, 'Software'),\n",
       " (541, 'Space Advertising'),\n",
       " (631, 'State Corporation Income Taxes'),\n",
       " (237, 'State Payroll Taxes Payable'),\n",
       " (522, 'Telephone'),\n",
       " (302, 'Trade Sales'),\n",
       " (582, 'Travel and Accomodations'),\n",
       " (507, 'UCI'),\n",
       " (521, 'Utilities'),\n",
       " (548, 'Web Site Production and Fees'))"
      ]
     },
     "execution_count": 29,
     "metadata": {},
     "output_type": "execute_result"
    }
   ],
   "source": [
    "mysql_data"
   ]
  },
  {
   "cell_type": "code",
   "execution_count": 18,
   "metadata": {},
   "outputs": [
    {
     "data": {
      "text/plain": [
       "tuple"
      ]
     },
     "execution_count": 18,
     "metadata": {},
     "output_type": "execute_result"
    }
   ],
   "source": [
    "type(mysql_data)"
   ]
  },
  {
   "cell_type": "code",
   "execution_count": 30,
   "metadata": {},
   "outputs": [
    {
     "data": {
      "text/plain": [
       "75"
      ]
     },
     "execution_count": 30,
     "metadata": {},
     "output_type": "execute_result"
    }
   ],
   "source": [
    "len(mysql_data)"
   ]
  },
  {
   "cell_type": "code",
   "execution_count": 31,
   "metadata": {},
   "outputs": [
    {
     "data": {
      "text/plain": [
       "(591, 'Accounting')"
      ]
     },
     "execution_count": 31,
     "metadata": {},
     "output_type": "execute_result"
    }
   ],
   "source": [
    "mysql_data[1]"
   ]
  },
  {
   "cell_type": "code",
   "execution_count": 32,
   "metadata": {},
   "outputs": [
    {
     "ename": "TypeError",
     "evalue": "list indices must be integers or slices, not str",
     "output_type": "error",
     "traceback": [
      "\u001b[0;31m---------------------------------------------------------------------------\u001b[0m",
      "\u001b[0;31mTypeError\u001b[0m                                 Traceback (most recent call last)",
      "\u001b[0;32m<ipython-input-32-587f9c5676f4>\u001b[0m in \u001b[0;36m<module>\u001b[0;34m\u001b[0m\n\u001b[1;32m      1\u001b[0m \u001b[0mtmp\u001b[0m \u001b[0;34m=\u001b[0m \u001b[0;34m[\u001b[0m\u001b[0;34m]\u001b[0m\u001b[0;34m\u001b[0m\u001b[0;34m\u001b[0m\u001b[0m\n\u001b[1;32m      2\u001b[0m \u001b[0;34m\u001b[0m\u001b[0m\n\u001b[0;32m----> 3\u001b[0;31m \u001b[0mtmp\u001b[0m\u001b[0;34m[\u001b[0m\u001b[0;34m'acc_number'\u001b[0m\u001b[0;34m]\u001b[0m \u001b[0;34m=\u001b[0m \u001b[0mmysql_data\u001b[0m\u001b[0;34m[\u001b[0m\u001b[0;36m0\u001b[0m\u001b[0;34m]\u001b[0m\u001b[0;34m\u001b[0m\u001b[0;34m\u001b[0m\u001b[0m\n\u001b[0m\u001b[1;32m      4\u001b[0m \u001b[0mtmp\u001b[0m\u001b[0;34m\u001b[0m\u001b[0;34m\u001b[0m\u001b[0m\n",
      "\u001b[0;31mTypeError\u001b[0m: list indices must be integers or slices, not str"
     ]
    }
   ],
   "source": [
    "tmp = []\n",
    "\n",
    "tmp['acc_number'] = mysql_data[0]\n",
    "tmp"
   ]
  },
  {
   "cell_type": "code",
   "execution_count": 27,
   "metadata": {},
   "outputs": [
    {
     "data": {
      "text/plain": [
       "[((221, '401K Employee Contributions'),\n",
       "  (591, 'Accounting'),\n",
       "  (200, 'Accounts Payable'),\n",
       "  (110, 'Accounts Receivable'),\n",
       "  (569, 'Auto Expense'),\n",
       "  (568, 'Auto License Fee'),\n",
       "  (565, 'Bank Fees'),\n",
       "  (394, 'Book Club Royalties'),\n",
       "  (181, 'Book Development'),\n",
       "  (120, 'Book Inventory'),\n",
       "  (400, 'Book Printing Costs'),\n",
       "  (403, 'Book Production Costs'),\n",
       "  (572, 'Books, Dues, and Subscriptions'),\n",
       "  (520, 'Building Lease'),\n",
       "  (523, 'Building Maintenance'),\n",
       "  (551, 'Business Forms'),\n",
       "  (590, 'Business Insurance'),\n",
       "  (574, 'Business Licenses and Taxes'),\n",
       "  (280, 'Capital Stock'),\n",
       "  (162, 'Capitalized Lease'),\n",
       "  (536, 'Card Deck Advertising'),\n",
       "  (100, 'Cash'),\n",
       "  (610, 'Charitable Contributions'),\n",
       "  (555, 'Collection Agency Fees'),\n",
       "  (301, 'College Sales'),\n",
       "  (310, 'Compositing Revenue'),\n",
       "  (160, 'Computer Equipment'),\n",
       "  (527, 'Computer Equipment Maintenance'),\n",
       "  (306, 'Consignment Sales'),\n",
       "  (556, 'Credit Card Handling'),\n",
       "  (540, 'Direct Mail Advertising'),\n",
       "  (238, 'Employee FICA Taxes Payable'),\n",
       "  (242, 'Employee SDI Taxes Payable'),\n",
       "  (239, 'Employer FICA Taxes Payable'),\n",
       "  (241, 'Employer FUTA Taxes Payable'),\n",
       "  (243, 'Employer UCI Taxes Payable'),\n",
       "  (532, 'Equipment Rental'),\n",
       "  (546, 'Exhibits and Shows'),\n",
       "  (630, 'Federal Corporation Income Taxes'),\n",
       "  (505, 'FICA'),\n",
       "  (553, 'Freight'),\n",
       "  (150, 'Furniture'),\n",
       "  (506, 'FUTA'),\n",
       "  (510, 'Group Insurance'),\n",
       "  (251, 'IBM Credit Corporation Payable'),\n",
       "  (528, 'IBM Lease'),\n",
       "  (235, 'Income Taxes Payable'),\n",
       "  (620, 'Interest Paid to Banks'),\n",
       "  (580, 'Meals'),\n",
       "  (508, 'Medicare'),\n",
       "  (234, 'Medicare Taxes Payable'),\n",
       "  (570, 'Office Supplies'),\n",
       "  (170, 'Other Equipment'),\n",
       "  (621, 'Other Interest'),\n",
       "  (589, 'Outside Services'),\n",
       "  (550, 'Packaging Materials'),\n",
       "  (576, 'PC Software'),\n",
       "  (552, 'Postage'),\n",
       "  (611, 'Profit Sharing Contributions'),\n",
       "  (300, 'Retail Sales'),\n",
       "  (290, 'Retained Earnings'),\n",
       "  (205, 'Royalties Payable'),\n",
       "  (500, 'Salaries and Wages'),\n",
       "  (632, 'Sales Tax'),\n",
       "  (230, 'Sales Taxes Payable'),\n",
       "  (167, 'Software'),\n",
       "  (541, 'Space Advertising'),\n",
       "  (631, 'State Corporation Income Taxes'),\n",
       "  (237, 'State Payroll Taxes Payable'),\n",
       "  (522, 'Telephone'),\n",
       "  (302, 'Trade Sales'),\n",
       "  (582, 'Travel and Accomodations'),\n",
       "  (507, 'UCI'),\n",
       "  (521, 'Utilities'),\n",
       "  (548, 'Web Site Production and Fees'))]"
      ]
     },
     "execution_count": 27,
     "metadata": {},
     "output_type": "execute_result"
    }
   ],
   "source": [
    "list_data"
   ]
  },
  {
   "cell_type": "code",
   "execution_count": null,
   "metadata": {},
   "outputs": [],
   "source": []
  }
 ],
 "metadata": {
  "kernelspec": {
   "display_name": "Python 3",
   "language": "python",
   "name": "python3"
  },
  "language_info": {
   "codemirror_mode": {
    "name": "ipython",
    "version": 3
   },
   "file_extension": ".py",
   "mimetype": "text/x-python",
   "name": "python",
   "nbconvert_exporter": "python",
   "pygments_lexer": "ipython3",
   "version": "3.6.9"
  }
 },
 "nbformat": 4,
 "nbformat_minor": 4
}
